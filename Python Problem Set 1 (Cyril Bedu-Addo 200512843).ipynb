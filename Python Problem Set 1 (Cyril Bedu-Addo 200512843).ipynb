{
 "cells": [
  {
   "cell_type": "markdown",
   "id": "f8a5a048",
   "metadata": {},
   "source": [
    "Question 6 Python \n",
    "\n",
    "Write a function pig() that takes a word (i.e., a string) \n",
    "as input and returns its pig-Latin form. \n",
    "Your function should still work if \n",
    "the input word contains upper case characters.\n",
    "Your output should always be lower case however"
   ]
  },
  {
   "cell_type": "code",
   "execution_count": 3,
   "id": "ea76574f",
   "metadata": {},
   "outputs": [
    {
     "name": "stdout",
     "output_type": "stream",
     "text": [
      "atin piglay\n"
     ]
    }
   ],
   "source": [
    "#Solution \n",
    "vowels = ['a','e','i','o','u']\n",
    "def pig(word):\n",
    "    \n",
    "    # Code to check if the word starts with vowel or not\n",
    "    if word[0].lower() in vowels:\n",
    "        print(word.lower() + 'way')\n",
    "    else:\n",
    "        first_letter = word[0]\n",
    "        print(word[1:].lower()+first_letter.lower()+'ay')\n",
    "        \n",
    "pig('Latin Pig')\n",
    "        \n",
    "\n",
    "        \n",
    "        \n"
   ]
  },
  {
   "cell_type": "markdown",
   "id": "6d91a040",
   "metadata": {},
   "source": [
    "Question 7\n",
    "\n",
    "\n",
    "File bloodtype1.txt records blood-types of patients (A, B, AB, O or OO) at a clinic.\n",
    "Write a function bldcount() that reads the file with name name and reports (i.e., prints)\n",
    "how many patients there are in each bloodtype.\n"
   ]
  },
  {
   "cell_type": "code",
   "execution_count": 5,
   "id": "b8653bca",
   "metadata": {},
   "outputs": [
    {
     "name": "stdout",
     "output_type": "stream",
     "text": [
      "There are 15 patients of bloodtype A\n",
      "There are 1 patients of bloodtype B\n",
      "There are 13 patients of bloodtype AB\n",
      "There are 15 patients of bloodtype O\n",
      "There are 0 patients of bloodtype OO\n"
     ]
    }
   ],
   "source": [
    "#Solution\n",
    "\n",
    "def bldcount(filename):\n",
    "    #reading file\n",
    "    readFile = open('bloodtype1.txt', 'r')\n",
    "    readLine = readFile.readline()\n",
    "    emptyList = []\n",
    "    bloodTypes = ['A', 'B', 'AB','O', 'OO']\n",
    "    \n",
    "    # code to separate and append the words into empty list\n",
    "    emptyList.append(readLine.split(\" \"))\n",
    "#     print(emptyList)\n",
    "    \n",
    "    #code to set loop\n",
    "    for bloodtype in bloodTypes:\n",
    "        output = emptyList[0].count(bloodtype)\n",
    "        print(f\"There are {output} patients of bloodtype {bloodtype}\")\n",
    "\n",
    "        \n",
    "bldcount('bloodtype.txt')\n",
    "\n",
    "\n",
    "\n"
   ]
  },
  {
   "cell_type": "markdown",
   "id": "9b689126",
   "metadata": {},
   "source": [
    "Question 8 Python\n",
    "\n",
    "\n",
    "Write a function curconv() that takes as input:\n",
    "1.a currency represented using a string (e.g., 'JPY' for the Japanese Yen or 'EUR' for the Euro)\n",
    "2. an amount\n",
    "and then converts and returns the amount in US dollars."
   ]
  },
  {
   "cell_type": "code",
   "execution_count": 1,
   "id": "c6e7e813",
   "metadata": {},
   "outputs": [
    {
     "name": "stdout",
     "output_type": "stream",
     "text": [
      "2.482802\n"
     ]
    }
   ],
   "source": [
    "#Solution\n",
    "\n",
    "def curconv(currency,amount):\n",
    "    currencies = {}\n",
    "    \n",
    "    #reading the file\n",
    "    cur_file = open('currencies.txt')\n",
    "    lines = cur_file.readlines()\n",
    "    \n",
    "    #storing the currency in the key and it's corresponding $ value and name in value.\n",
    "    for x in lines:\n",
    "        currencies[x[:3].strip()] = x[4:].split(\"\\t\")\n",
    "    value = currencies[currency][0].strip()\n",
    "    print(amount * float(value))\n",
    "    \n",
    "curconv('JPY',200)\n",
    "\n",
    "\n",
    "            \n",
    "\n",
    "\n"
   ]
  },
  {
   "cell_type": "markdown",
   "id": "ab8ea910",
   "metadata": {},
   "source": [
    "Question 9 Python\n",
    "\n",
    "Each of the following will cause an exception (an error). \n",
    "Identify what type of exception each will cause."
   ]
  },
  {
   "cell_type": "markdown",
   "id": "2a685cb2",
   "metadata": {},
   "source": [
    "\n",
    "\n",
    "Solution\n",
    "Trying to add incompatible variables, as in adding 6 + ‘a’ - Unsopported Type\n",
    "\n",
    "Referring to the 12th item of a list that has only 10 items - Out of index\n",
    "\n",
    "Using a value that is out of range for a function’s input, -  Domain Error\n",
    "such as calling math.sqrt( 1.0)\n",
    "\n",
    "Using an undeclared variable, such as print(x)  - Variable not defined\n",
    "when x has not been defined\n",
    "\n",
    "\n",
    "Trying to open a file that does not exist, \n",
    "such as mistyping the file name or looking in the wrong    -\n",
    "\n",
    "\n",
    "\n"
   ]
  },
  {
   "cell_type": "markdown",
   "id": "17f5d6c6",
   "metadata": {},
   "source": [
    "Question 10 Python"
   ]
  },
  {
   "cell_type": "code",
   "execution_count": 20,
   "id": "663010b5",
   "metadata": {},
   "outputs": [
    {
     "name": "stdout",
     "output_type": "stream",
     "text": [
      "Please Input Your String :pop\n",
      "[0, 0, 0, 0, 0, 0, 0, 0, 0, 0, 0, 0, 0, 0, 1, 2, 0, 0, 0, 0, 0, 0, 0, 0, 0, 0]\n"
     ]
    }
   ],
   "source": [
    "#solution\n",
    "\n",
    "def frequencies (string):\n",
    "    letters =\"abcdefghijklmnopqrstuvwxyz\"\n",
    "    list = []\n",
    "    for x in letters:\n",
    "        num = 0\n",
    "        for y in string:\n",
    "            if(x==y):\n",
    "                num =num+1\n",
    "        list.append(num)\n",
    "    print(list)\n",
    "string = input(\"Please Input Your String :\")\n",
    "frequencies(string)\n",
    "            "
   ]
  }
 ],
 "metadata": {
  "kernelspec": {
   "display_name": "Python 3 (ipykernel)",
   "language": "python",
   "name": "python3"
  },
  "language_info": {
   "codemirror_mode": {
    "name": "ipython",
    "version": 3
   },
   "file_extension": ".py",
   "mimetype": "text/x-python",
   "name": "python",
   "nbconvert_exporter": "python",
   "pygments_lexer": "ipython3",
   "version": "3.9.12"
  }
 },
 "nbformat": 4,
 "nbformat_minor": 5
}
