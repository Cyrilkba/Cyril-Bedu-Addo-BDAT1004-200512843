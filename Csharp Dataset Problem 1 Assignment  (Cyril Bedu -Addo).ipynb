{
 "cells": [
  {
   "cell_type": "markdown",
   "id": "a190643d",
   "metadata": {},
   "source": [
    "///Question 1 C#\n",
    "\n",
    "///What data type is each of the following?\n",
    "\n",
    "///Solution ////\n",
    "\n",
    "\n",
    "// 5  - Integer\n",
    "\n",
    "// 5.0 -Float\n",
    "\n",
    "// 5 > 1 -boolean\n",
    "\n",
    "// '5' - String\n",
    "\n",
    "// 5 * 2 - Int32\n",
    "\n",
    "// '5' * '2' - String\n",
    "\n",
    "// '5' + '2' - String\n",
    "\n",
    "// 5 / 2 - Int32\n",
    "\n",
    "// 5%2 - Double\n",
    "\n",
    "//{5, 2, 1} -List\n",
    "\n",
    "// 5== 3 - Boolean\n",
    "\n",
    "//Pi(the number) - Double\n",
    "\n",
    "\n"
   ]
  },
  {
   "cell_type": "markdown",
   "id": "06e9a2c3",
   "metadata": {},
   "source": [
    "Question 2a\n",
    "\n",
    "Write (and evaluate) C# expressions that answer these questions:\n",
    "a. How many letters are there in 'Supercalifragilisticexpialidocious'?"
   ]
  },
  {
   "cell_type": "code",
   "execution_count": 3,
   "id": "99438917",
   "metadata": {},
   "outputs": [
    {
     "name": "stdout",
     "output_type": "stream",
     "text": [
      "String Length:34\n",
      "Does 'Supercalifragilisticexpialidocious' contain 'ice' as a substring?\n",
      "True\n"
     ]
    }
   ],
   "source": [
    "///solution\n",
    "\n",
    "string Expression = \"Supercalifragilisticexpialidocious\";\n",
    "Console.WriteLine(\"String Length:\"+Expression.Length);\n",
    "Console.ReadLine();\n",
    "\n",
    "//2b. Does 'Supercalifragilisticexpialidocious' contain 'ice' as a substring?\n",
    "\n",
    "bool bool_variable = Expression.Contains(\"ice\");\n",
    "Console.WriteLine($\"Does 'Supercalifragilisticexpialidocious' contain 'ice' as a substring?\\n{bool_variable}\");\n",
    "\n",
    "\n",
    "\n",
    "\n",
    "\n"
   ]
  },
  {
   "cell_type": "markdown",
   "id": "3209add7",
   "metadata": {},
   "source": [
    "2c\n",
    "\n",
    "Which of the following words is the longest:\n",
    "Supercalifragilisticexpialidocious, Honorificabilitudinitatibus, or\n",
    "Bababadalgharaghtakamminarronnkonn?"
   ]
  },
  {
   "cell_type": "code",
   "execution_count": 5,
   "id": "26c72a1d",
   "metadata": {},
   "outputs": [
    {
     "name": "stdout",
     "output_type": "stream",
     "text": [
      "The longest word (is/are)\n",
      "Supercalifragilisticexpialidocious Bababadalgharaghtakamminarronnkonn\n"
     ]
    }
   ],
   "source": [
    "///Solution\n",
    "\n",
    "string x = \"Supercalifragilisticexpialidocious\";\n",
    "string y = \"Honorificabilitudinitatibus\";\n",
    "string z = \"Bababadalgharaghtakamminarronnkonn\";\n",
    "\n",
    "//setting longest string variable\n",
    "string longest = \"\";\n",
    "\n",
    "//setting conditional statements to check for longest words\n",
    "if (x.Length >= y.Length && x.Length >= z.Length)\n",
    "{\n",
    "\n",
    "    longest = x;\n",
    "}\n",
    "if (y.Length >= x.Length && y.Length >= z.Length)\n",
    "{\n",
    "    longest = $\"{longest} {y}\";\n",
    "}\n",
    "if (z.Length >= x.Length && z.Length >= y.Length)\n",
    "{\n",
    "    longest = $\"{longest} {z}\";\n",
    "}\n",
    "//printing longest words\n",
    "Console.WriteLine(\"The longest word (is/are)\");\n",
    "Console.WriteLine(longest);"
   ]
  },
  {
   "cell_type": "markdown",
   "id": "95aa46e4",
   "metadata": {},
   "source": [
    "2d.\n",
    "\n",
    "Which composer comes first in the dictionary: 'Berlioz', 'Borodin', 'Brian',\n",
    "'Bartok', 'Bellini', 'Buxtehude', 'Bernstein'. Which one comes last?\n",
    "setting variable to store list of composers"
   ]
  },
  {
   "cell_type": "code",
   "execution_count": 4,
   "id": "db84916f",
   "metadata": {},
   "outputs": [
    {
     "name": "stdout",
     "output_type": "stream",
     "text": [
      "First composer in the dictionary: Bartok\n",
      "Last composer in the dictionary: Buxtehude\n"
     ]
    }
   ],
   "source": [
    "\n",
    "List<string> Composers = new List<string>();\n",
    "\n",
    "\n",
    "Composers.Add(\"Berlioz\");\n",
    "Composers.Add(\"Borodin\");\n",
    "Composers.Add(\"Brain\");\n",
    "Composers.Add(\"Bartok\");\n",
    "Composers.Add(\"Bellini\");\n",
    "Composers.Add(\"Buxtehude\");\n",
    "Composers.Add(\"Bernstein\");\n",
    "\n",
    "//sorting list of composers in ascending order\n",
    "Composers.Sort();\n",
    "\n",
    "//taking a count of items in the list\n",
    "int len = Composers.Count;\n",
    "\n",
    "//storing last list item in a variable\n",
    "int lastobjectpositon = len - 1;\n",
    "\n",
    "//printing first and last item of list\n",
    "Console.WriteLine(\"First composer in the dictionary: {0}\", Composers[0]);\n",
    "Console.WriteLine(\"Last composer in the dictionary: {0}\", Composers[lastobjectpositon]);"
   ]
  },
  {
   "cell_type": "markdown",
   "id": "052f25e5",
   "metadata": {},
   "source": [
    "Question3\n",
    "\n",
    "Implement function triangleArea(a,b,c) that takes as input the lengths of the 3 sides of a triangle and returns the area of the triangle.\n",
    "By Heron's formula, the area of a triangle with\n",
    "side lengths a, b, and c is   s(s-a)(s-b)(s-c), where   s=(a+b+c)/2.  \n",
    ">>> triangleArea(2,2,2) \n"
   ]
  },
  {
   "cell_type": "code",
   "execution_count": 7,
   "id": "36110d58",
   "metadata": {},
   "outputs": [
    {
     "name": "stdout",
     "output_type": "stream",
     "text": [
      "Program to Find Area of Triangle\n",
      "The area of the triangle with sides 2, 2, 2 is \n",
      "1.7320508075688772\n"
     ]
    }
   ],
   "source": [
    "///Solution\n",
    "\n",
    "//defining a function to calculate area of triangle based on input parameters\n",
    "static void triangleArea(double a, double b, double c)\n",
    "{\n",
    "    Console.WriteLine(\"Program to Find Area of Triangle\");\n",
    "    //setting data type for variables\n",
    "    double s, area;\n",
    "\n",
    "    //code to calculate area\n",
    "    s = (a + b + c) / 2;\n",
    "    area = Math.Sqrt(s * (s - a) * (s - b) * (s - c));\n",
    "\n",
    "    // code to return the calculated area\n",
    "    Console.WriteLine($\"The area of the triangle with sides {a}, {b}, {c} is \\n{area}\");\n",
    "}\n",
    "triangleArea(2, 2, 2);\n",
    "\n",
    "\n",
    "\n"
   ]
  },
  {
   "cell_type": "markdown",
   "id": "def179f5",
   "metadata": {},
   "source": [
    "Question 4 \n",
    "\n",
    "Write a program in C# Sharp to separate odd and even integers in separate arrays.\n",
    "Go to the editor Test Data : Input the number of elements to be stored in the array :5 Input 5 elements in the array : element - 0 : 25 element - 1 : 47 element - 2 : 42 element - 3 : 56 element - 4 : 32 Expected Output: The Even elements are: 42 56 32 The Odd elements are : 25 47 "
   ]
  },
  {
   "cell_type": "code",
   "execution_count": 29,
   "id": "c38bb220",
   "metadata": {},
   "outputs": [
    {
     "name": "stdout",
     "output_type": "stream",
     "text": [
      "How many numbers you want to input?\n",
      "Enter 0 numbers in the array :\n",
      "Even numbers are:\n",
      "\n",
      "---------------------------------------------\n",
      "Odd numbers are:\n"
     ]
    }
   ],
   "source": [
    "Console.WriteLine(\"How many numbers you want to input?\");\n",
    "int num = Convert.ToInt32(Console.ReadLine());\n",
    "int[] array1 = new int[10];\n",
    "int[] array2 = new int[10];\n",
    "int[] array3 = new int[10];\n",
    "int i, j = 0, k = 0;\n",
    "\n",
    "//validating input of user\n",
    "Console.WriteLine(\"Enter {0} numbers in the array :\", num);\n",
    "for (i = 0; i < num; i++)\n",
    "{\n",
    "    Console.Write(\"Number - {0} : \", i + 1);\n",
    "    array1[i] = Convert.ToInt32(Console.ReadLine());\n",
    "}\n",
    "\n",
    "//checking for odd and even numbers\n",
    "for (i = 0; i < num; i++)\n",
    "{\n",
    "    if (array1[i] % 2 == 0)\n",
    "    {\n",
    "        array2[j] = array1[i];\n",
    "        j++;\n",
    "    }\n",
    "    else\n",
    "    {\n",
    "        array3[k] = array1[i];\n",
    "        k++;\n",
    "    }\n",
    "}\n",
    "\n",
    "//printing even numbers\n",
    "Console.WriteLine(\"Even numbers are:\");\n",
    "for (i = 0; i < j; i++)\n",
    "{\n",
    "    Console.Write(\"{0} \", array2[i]);\n",
    "}\n",
    "Console.WriteLine();\n",
    "Console.WriteLine(\"---------------------------------------------\");\n",
    "\n",
    "//printing odd numbers\n",
    "Console.WriteLine(\"Odd numbers are:\");\n",
    "for (i = 0; i < k; i++)\n",
    "{\n",
    "    Console.Write(\"{0} \", array3[i]);\n",
    "}"
   ]
  },
  {
   "cell_type": "markdown",
   "id": "b660e461",
   "metadata": {},
   "source": [
    "Question 5\n",
    "\n",
    "5a\n",
    "creating function to check if a point lies in a rectangle"
   ]
  },
  {
   "cell_type": "code",
   "execution_count": 6,
   "id": "aff0d8b1",
   "metadata": {},
   "outputs": [
    {
     "name": "stdout",
     "output_type": "stream",
     "text": [
      "True"
     ]
    }
   ],
   "source": [
    "\n",
    "static void inside(double x, double y, double x1, double y1, double x2, double y2)\n",
    "{\n",
    "    // code to set conditions\n",
    "    if (x > x1 && x < x2 && y > y1 && y < y2)\n",
    "    {\n",
    "        Console.Write(\"True\");\n",
    "    }\n",
    "    else\n",
    "        Console.Write(\"False\");\n",
    "}\n",
    "//code to call function\n",
    "inside(1, 1, 0, 0, 2, 3);"
   ]
  },
  {
   "cell_type": "markdown",
   "id": "0a73cf21",
   "metadata": {},
   "source": [
    "5b\n",
    "defining function to test if a point lies in a rectangle using the previously created function inside"
   ]
  },
  {
   "cell_type": "code",
   "execution_count": 9,
   "id": "1f73e740",
   "metadata": {},
   "outputs": [
    {
     "name": "stdout",
     "output_type": "stream",
     "text": [
      "Code to check whether the point lies inside the rectangle\n",
      "For (1, 1, 0.3, 0.5, 1.1, 0.7)\n",
      "False\n",
      "\n",
      "For (1, 1, 0.5, 0.2, 1.1, 2)\n",
      "True"
     ]
    }
   ],
   "source": [
    "static void Main()\n",
    "{\n",
    "    // code to check first points\n",
    "    Console.WriteLine(\"Code to check whether the point lies inside the rectangle\");\n",
    "    Console.WriteLine(\"For (1, 1, 0.3, 0.5, 1.1, 0.7)\");\n",
    "    inside(1, 1, 0.3, 0.5, 1.1, 0.7);\n",
    "    Console.WriteLine();\n",
    "    Console.WriteLine();\n",
    "\n",
    "    // code to check second points\n",
    "    Console.WriteLine(\"For (1, 1, 0.5, 0.2, 1.1, 2)\");\n",
    "    inside(1, 1, 0.5, 0.2, 1.1, 2);\n",
    "}\n",
    "\n",
    "//calling function\n",
    "Main();"
   ]
  }
 ],
 "metadata": {
  "kernelspec": {
   "display_name": ".NET (C#)",
   "language": "C#",
   "name": ".net-csharp"
  },
  "language_info": {
   "file_extension": ".cs",
   "mimetype": "text/x-csharp",
   "name": "C#",
   "pygments_lexer": "csharp",
   "version": "8.0"
  }
 },
 "nbformat": 4,
 "nbformat_minor": 5
}
